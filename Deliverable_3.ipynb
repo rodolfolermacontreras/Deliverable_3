{
 "cells": [
  {
   "cell_type": "markdown",
   "id": "3b3fca45",
   "metadata": {},
   "source": [
    "# Deliverable 3\n",
    "\n",
    "### Team 3:\n",
    " - Rodolfo Lerma\n",
    " - Neil Crook\n",
    " - Michelle Li\n",
    " - Charles Linsenbigler"
   ]
  },
  {
   "cell_type": "markdown",
   "id": "1c278004",
   "metadata": {},
   "source": [
    "A consulting firm believes its consultants work best through multi-disciplinary collaboration. All consultants employed by the firm are highly qualified professionals. However, the firm believes its teams work best and are most productive when their members contribute diverse specialized expertise and diverse viewpoints.\n",
    "\n",
    "For the purposes of this stylized exercise consider 100 consultants to be allocated across 20 teams of 5 members each. The firm has identified the following 4 attributes to partially differentiate its consultants:\n",
    "- Their expertise in Analytics (including Python programming).\n",
    "- Their functional expertise in business and or operations strategy and management.\n",
    "- Their domain expertise in the healthcare sector where these 20 teams will be working.\n",
    "- Their communication skills (including languages spoken by regional clients)."
   ]
  },
  {
   "cell_type": "code",
   "execution_count": 1,
   "id": "e9428f48",
   "metadata": {},
   "outputs": [],
   "source": [
    "#Libraries\n",
    "import pandas as pd\n",
    "import numpy as np\n",
    "import matplotlib.pyplot as plt"
   ]
  },
  {
   "cell_type": "code",
   "execution_count": 2,
   "id": "fef72736",
   "metadata": {},
   "outputs": [],
   "source": [
    "df = pd.read_csv('consultants.csv')\n",
    "consultants = pd.read_csv(\"consultants.csv\").to_dict(\"records\")"
   ]
  },
  {
   "cell_type": "markdown",
   "id": "e6c97245",
   "metadata": {},
   "source": [
    "### Data Exploration"
   ]
  },
  {
   "cell_type": "code",
   "execution_count": 3,
   "id": "d87c1fd1",
   "metadata": {},
   "outputs": [
    {
     "data": {
      "text/html": [
       "<div>\n",
       "<style scoped>\n",
       "    .dataframe tbody tr th:only-of-type {\n",
       "        vertical-align: middle;\n",
       "    }\n",
       "\n",
       "    .dataframe tbody tr th {\n",
       "        vertical-align: top;\n",
       "    }\n",
       "\n",
       "    .dataframe thead th {\n",
       "        text-align: right;\n",
       "    }\n",
       "</style>\n",
       "<table border=\"1\" class=\"dataframe\">\n",
       "  <thead>\n",
       "    <tr style=\"text-align: right;\">\n",
       "      <th></th>\n",
       "      <th>consultant_id</th>\n",
       "      <th>analytics_expertise</th>\n",
       "      <th>functional_expertise</th>\n",
       "      <th>domain_expertise</th>\n",
       "      <th>communication_skill</th>\n",
       "    </tr>\n",
       "  </thead>\n",
       "  <tbody>\n",
       "    <tr>\n",
       "      <th>0</th>\n",
       "      <td>consultant_1</td>\n",
       "      <td>0</td>\n",
       "      <td>1</td>\n",
       "      <td>1</td>\n",
       "      <td>1</td>\n",
       "    </tr>\n",
       "    <tr>\n",
       "      <th>1</th>\n",
       "      <td>consultant_2</td>\n",
       "      <td>0</td>\n",
       "      <td>1</td>\n",
       "      <td>0</td>\n",
       "      <td>0</td>\n",
       "    </tr>\n",
       "    <tr>\n",
       "      <th>2</th>\n",
       "      <td>consultant_3</td>\n",
       "      <td>0</td>\n",
       "      <td>0</td>\n",
       "      <td>1</td>\n",
       "      <td>0</td>\n",
       "    </tr>\n",
       "    <tr>\n",
       "      <th>3</th>\n",
       "      <td>consultant_4</td>\n",
       "      <td>0</td>\n",
       "      <td>1</td>\n",
       "      <td>0</td>\n",
       "      <td>1</td>\n",
       "    </tr>\n",
       "    <tr>\n",
       "      <th>4</th>\n",
       "      <td>consultant_5</td>\n",
       "      <td>0</td>\n",
       "      <td>1</td>\n",
       "      <td>0</td>\n",
       "      <td>1</td>\n",
       "    </tr>\n",
       "  </tbody>\n",
       "</table>\n",
       "</div>"
      ],
      "text/plain": [
       "  consultant_id  analytics_expertise  functional_expertise  domain_expertise  \\\n",
       "0  consultant_1                    0                     1                 1   \n",
       "1  consultant_2                    0                     1                 0   \n",
       "2  consultant_3                    0                     0                 1   \n",
       "3  consultant_4                    0                     1                 0   \n",
       "4  consultant_5                    0                     1                 0   \n",
       "\n",
       "   communication_skill  \n",
       "0                    1  \n",
       "1                    0  \n",
       "2                    0  \n",
       "3                    1  \n",
       "4                    1  "
      ]
     },
     "execution_count": 3,
     "metadata": {},
     "output_type": "execute_result"
    }
   ],
   "source": [
    "df.head()"
   ]
  },
  {
   "cell_type": "code",
   "execution_count": 4,
   "id": "7c0abcf6",
   "metadata": {},
   "outputs": [
    {
     "data": {
      "text/html": [
       "<div>\n",
       "<style scoped>\n",
       "    .dataframe tbody tr th:only-of-type {\n",
       "        vertical-align: middle;\n",
       "    }\n",
       "\n",
       "    .dataframe tbody tr th {\n",
       "        vertical-align: top;\n",
       "    }\n",
       "\n",
       "    .dataframe thead th {\n",
       "        text-align: right;\n",
       "    }\n",
       "</style>\n",
       "<table border=\"1\" class=\"dataframe\">\n",
       "  <thead>\n",
       "    <tr style=\"text-align: right;\">\n",
       "      <th></th>\n",
       "      <th>consultant_id</th>\n",
       "      <th>analytics_expertise</th>\n",
       "      <th>functional_expertise</th>\n",
       "      <th>domain_expertise</th>\n",
       "      <th>communication_skill</th>\n",
       "    </tr>\n",
       "  </thead>\n",
       "  <tbody>\n",
       "    <tr>\n",
       "      <th>95</th>\n",
       "      <td>consultant_96</td>\n",
       "      <td>0</td>\n",
       "      <td>0</td>\n",
       "      <td>0</td>\n",
       "      <td>1</td>\n",
       "    </tr>\n",
       "    <tr>\n",
       "      <th>96</th>\n",
       "      <td>consultant_97</td>\n",
       "      <td>0</td>\n",
       "      <td>1</td>\n",
       "      <td>0</td>\n",
       "      <td>1</td>\n",
       "    </tr>\n",
       "    <tr>\n",
       "      <th>97</th>\n",
       "      <td>consultant_98</td>\n",
       "      <td>0</td>\n",
       "      <td>0</td>\n",
       "      <td>1</td>\n",
       "      <td>0</td>\n",
       "    </tr>\n",
       "    <tr>\n",
       "      <th>98</th>\n",
       "      <td>consultant_99</td>\n",
       "      <td>0</td>\n",
       "      <td>0</td>\n",
       "      <td>1</td>\n",
       "      <td>1</td>\n",
       "    </tr>\n",
       "    <tr>\n",
       "      <th>99</th>\n",
       "      <td>consultant_100</td>\n",
       "      <td>0</td>\n",
       "      <td>1</td>\n",
       "      <td>1</td>\n",
       "      <td>1</td>\n",
       "    </tr>\n",
       "  </tbody>\n",
       "</table>\n",
       "</div>"
      ],
      "text/plain": [
       "     consultant_id  analytics_expertise  functional_expertise  \\\n",
       "95   consultant_96                    0                     0   \n",
       "96   consultant_97                    0                     1   \n",
       "97   consultant_98                    0                     0   \n",
       "98   consultant_99                    0                     0   \n",
       "99  consultant_100                    0                     1   \n",
       "\n",
       "    domain_expertise  communication_skill  \n",
       "95                 0                    1  \n",
       "96                 0                    1  \n",
       "97                 1                    0  \n",
       "98                 1                    1  \n",
       "99                 1                    1  "
      ]
     },
     "execution_count": 4,
     "metadata": {},
     "output_type": "execute_result"
    }
   ],
   "source": [
    "df.tail()"
   ]
  },
  {
   "cell_type": "code",
   "execution_count": 5,
   "id": "98b056a9",
   "metadata": {},
   "outputs": [
    {
     "data": {
      "text/plain": [
       "(100, 5)"
      ]
     },
     "execution_count": 5,
     "metadata": {},
     "output_type": "execute_result"
    }
   ],
   "source": [
    "#Size of the dataframe\n",
    "df.shape"
   ]
  },
  {
   "cell_type": "markdown",
   "id": "5a0e2833",
   "metadata": {},
   "source": [
    "This dataframe contains **100** rows and **5** columns. Each row represents a consultant available for each of the 20 teams that will be made. The columns represent, the ID and 4 areas of expertise."
   ]
  },
  {
   "cell_type": "code",
   "execution_count": 6,
   "id": "68702b29",
   "metadata": {},
   "outputs": [
    {
     "data": {
      "text/plain": [
       "consultant_id           object\n",
       "analytics_expertise      int64\n",
       "functional_expertise     int64\n",
       "domain_expertise         int64\n",
       "communication_skill      int64\n",
       "dtype: object"
      ]
     },
     "execution_count": 6,
     "metadata": {},
     "output_type": "execute_result"
    }
   ],
   "source": [
    "#Data types\n",
    "df.dtypes"
   ]
  },
  {
   "cell_type": "code",
   "execution_count": 7,
   "id": "62d43696",
   "metadata": {},
   "outputs": [
    {
     "name": "stdout",
     "output_type": "stream",
     "text": [
      "Missing values in consultant_id: 0\n",
      "Missing values in analytics_expertise: 0\n",
      "Missing values in functional_expertise: 0\n",
      "Missing values in domain_expertise: 0\n",
      "Missing values in communication_skill: 0\n"
     ]
    }
   ],
   "source": [
    "for i in df.columns.tolist():\n",
    "    x = df[i].isnull().sum()\n",
    "    print('Missing values in ' + i + ': ' + str(x))"
   ]
  },
  {
   "cell_type": "markdown",
   "id": "df6ec29f",
   "metadata": {},
   "source": [
    "As we can see from the note above the dataset does not contain missing values."
   ]
  },
  {
   "cell_type": "code",
   "execution_count": 8,
   "id": "aed2c233",
   "metadata": {},
   "outputs": [
    {
     "data": {
      "text/plain": [
       "array([[<AxesSubplot:title={'center':'analytics_expertise'}>,\n",
       "        <AxesSubplot:title={'center':'functional_expertise'}>],\n",
       "       [<AxesSubplot:title={'center':'domain_expertise'}>,\n",
       "        <AxesSubplot:title={'center':'communication_skill'}>]],\n",
       "      dtype=object)"
      ]
     },
     "execution_count": 8,
     "metadata": {},
     "output_type": "execute_result"
    },
    {
     "data": {
      "image/png": "[encoded data removed]",
      "text/plain": [
       "<Figure size 720x432 with 4 Axes>"
      ]
     },
     "metadata": {
      "needs_background": "light"
     },
     "output_type": "display_data"
    }
   ],
   "source": [
    "df.hist(figsize = (10,6))"
   ]
  },
  {
   "cell_type": "code",
   "execution_count": 9,
   "id": "59ac2d84",
   "metadata": {},
   "outputs": [
    {
     "name": "stdout",
     "output_type": "stream",
     "text": [
      "{'analytics_expertise': 16, 'functional_expertise': 37, 'domain_expertise': 34, 'communication_skill': 54}\n"
     ]
    }
   ],
   "source": [
    "x = df.columns.tolist()\n",
    "x.remove('consultant_id')\n",
    "#Experts per different areas\n",
    "experts = []\n",
    "for i in x:\n",
    "    experts.append(sum(df[i]))\n",
    "    \n",
    "summary_experts = dict(zip(x, experts))\n",
    "print(summary_experts)"
   ]
  },
  {
   "cell_type": "code",
   "execution_count": 10,
   "id": "bb3dad9a",
   "metadata": {},
   "outputs": [
    {
     "data": {
      "image/png": "[encoded data removed]",
      "text/plain": [
       "<Figure size 720x432 with 1 Axes>"
      ]
     },
     "metadata": {
      "needs_background": "light"
     },
     "output_type": "display_data"
    }
   ],
   "source": [
    "#fig, ax = plt.subplots()\n",
    "format_color = ['crimson', 'olive', 'blue', 'indigo']\n",
    "plt.figure(figsize=(10,6))\n",
    "plt.bar(range(len(summary_experts)), experts, tick_label=x, color=format_color)\n",
    "#plt.text(v, i, \" \"+str(v), color='black', va='center', fontweight='bold')\n",
    "plt.title('Distribution of Expertise', fontsize = 20)\n",
    "plt.xlabel('Areas of Expertise', fontsize = 15)\n",
    "plt.ylabel('Frequency',fontsize = 15)\n",
    "plt.tick_params(axis=\"x\", labelsize=10, rotation=20)\n",
    "plt.tick_params(axis=\"y\", labelsize=10)\n",
    "plt.grid(True)\n",
    "\n",
    "for index, value in enumerate(experts):\n",
    "    plt.text(index ,value, str(value), color = 'black', size = 15, fontweight = 'bold', ha='center')\n",
    "\n",
    "plt.show()"
   ]
  },
  {
   "cell_type": "markdown",
   "id": "fa2b588f",
   "metadata": {},
   "source": [
    "For this example we need to form 20 teams of 5 people, where ideally each team is balanced.\n",
    "Based on the numbers from above we can notice that we do not have enough people with `Analytics Expertise` (16 people) and that most of the people in the group (54 people) are classified having - `communication skills`."
   ]
  }
 ],
 "metadata": {
  "kernelspec": {
   "display_name": "Python 3",
   "language": "python",
   "name": "python3"
  },
  "language_info": {
   "codemirror_mode": {
    "name": "ipython",
    "version": 3
   },
   "file_extension": ".py",
   "mimetype": "text/x-python",
   "name": "python",
   "nbconvert_exporter": "python",
   "pygments_lexer": "ipython3",
   "version": "3.8.8"
  }
 },
 "nbformat": 4,
 "nbformat_minor": 5
}
